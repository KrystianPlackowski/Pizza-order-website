{
 "cells": [
  {
   "cell_type": "code",
   "execution_count": 1,
   "metadata": {},
   "outputs": [],
   "source": [
    "import requests\n",
    "from bs4 import BeautifulSoup\n",
    "import pandas as pd"
   ]
  },
  {
   "cell_type": "code",
   "execution_count": 2,
   "metadata": {},
   "outputs": [],
   "source": [
    "response = requests.get('http://www.pinocchiospizza.net/menu.html')\n",
    "soup = BeautifulSoup(response.text, 'html.parser')"
   ]
  },
  {
   "cell_type": "code",
   "execution_count": 3,
   "metadata": {},
   "outputs": [],
   "source": [
    "def extract_toppings():\n",
    "    table = []\n",
    "    for row in soup.find(\"table\", {\"class\": \"toppingmenu\"}).find_all('td'):\n",
    "        table.append(row.text)\n",
    "    return table"
   ]
  },
  {
   "cell_type": "code",
   "execution_count": 4,
   "metadata": {},
   "outputs": [],
   "source": [
    "def extract_table(table_num):\n",
    "    table = []\n",
    "    # First found row is empty, so exclude it\n",
    "    for row in soup.find_all(\"table\", {\"class\": \"foodmenu\"})[table_num].find_all('tr')[1:]:\n",
    "        table.append([element.text for element in row.find_all('td')])\n",
    "\n",
    "    data = [row[1:] for row in table[1:]]  # Inner of `table` == [1:, 1:]\n",
    "    columns = table[0][1:]  # First row of `table` == [0, 1:]\n",
    "    index = [row[0] for row in table[1:]]  # First column of `table` == [1:, 0]\n",
    "    \n",
    "    return pd.DataFrame(data=data, columns=columns, index=index)"
   ]
  },
  {
   "cell_type": "code",
   "execution_count": 5,
   "metadata": {},
   "outputs": [
    {
     "data": {
      "text/plain": [
       "['Pepperoni',\n",
       " 'Sausage',\n",
       " 'Mushrooms',\n",
       " 'Onions',\n",
       " 'Ham',\n",
       " 'Canadian Bacon',\n",
       " 'Pineapple',\n",
       " 'Eggplant',\n",
       " 'Tomato & Basil',\n",
       " 'Green Peppers',\n",
       " 'Hamburger',\n",
       " 'Spinach',\n",
       " 'Artichoke',\n",
       " 'Buffalo Chicken',\n",
       " 'Barbecue Chicken',\n",
       " 'Anchovies',\n",
       " 'Black Olives',\n",
       " 'Fresh Garlic',\n",
       " 'Zucchini']"
      ]
     },
     "metadata": {},
     "output_type": "display_data"
    },
    {
     "name": "stdout",
     "output_type": "stream",
     "text": [
      "Regular:\n"
     ]
    },
    {
     "data": {
      "text/html": [
       "<div>\n",
       "<style scoped>\n",
       "    .dataframe tbody tr th:only-of-type {\n",
       "        vertical-align: middle;\n",
       "    }\n",
       "\n",
       "    .dataframe tbody tr th {\n",
       "        vertical-align: top;\n",
       "    }\n",
       "\n",
       "    .dataframe thead th {\n",
       "        text-align: right;\n",
       "    }\n",
       "</style>\n",
       "<table border=\"1\" class=\"dataframe\">\n",
       "  <thead>\n",
       "    <tr style=\"text-align: right;\">\n",
       "      <th></th>\n",
       "      <th>Small</th>\n",
       "      <th>Large</th>\n",
       "    </tr>\n",
       "  </thead>\n",
       "  <tbody>\n",
       "    <tr>\n",
       "      <th>Cheese</th>\n",
       "      <td>12.70</td>\n",
       "      <td>17.95</td>\n",
       "    </tr>\n",
       "    <tr>\n",
       "      <th>1 topping</th>\n",
       "      <td>13.70</td>\n",
       "      <td>19.95</td>\n",
       "    </tr>\n",
       "    <tr>\n",
       "      <th>2 toppings</th>\n",
       "      <td>15.20</td>\n",
       "      <td>21.95</td>\n",
       "    </tr>\n",
       "    <tr>\n",
       "      <th>3 toppings</th>\n",
       "      <td>16.20</td>\n",
       "      <td>23.95</td>\n",
       "    </tr>\n",
       "    <tr>\n",
       "      <th>Special</th>\n",
       "      <td>17.75</td>\n",
       "      <td>25.95</td>\n",
       "    </tr>\n",
       "  </tbody>\n",
       "</table>\n",
       "</div>"
      ],
      "text/plain": [
       "            Small  Large\n",
       "Cheese      12.70  17.95\n",
       "1 topping   13.70  19.95\n",
       "2 toppings  15.20  21.95\n",
       "3 toppings  16.20  23.95\n",
       "Special     17.75  25.95"
      ]
     },
     "metadata": {},
     "output_type": "display_data"
    },
    {
     "name": "stdout",
     "output_type": "stream",
     "text": [
      "Sicilian:\n"
     ]
    },
    {
     "data": {
      "text/html": [
       "<div>\n",
       "<style scoped>\n",
       "    .dataframe tbody tr th:only-of-type {\n",
       "        vertical-align: middle;\n",
       "    }\n",
       "\n",
       "    .dataframe tbody tr th {\n",
       "        vertical-align: top;\n",
       "    }\n",
       "\n",
       "    .dataframe thead th {\n",
       "        text-align: right;\n",
       "    }\n",
       "</style>\n",
       "<table border=\"1\" class=\"dataframe\">\n",
       "  <thead>\n",
       "    <tr style=\"text-align: right;\">\n",
       "      <th></th>\n",
       "      <th>Small</th>\n",
       "      <th>Large</th>\n",
       "    </tr>\n",
       "  </thead>\n",
       "  <tbody>\n",
       "    <tr>\n",
       "      <th>Cheese</th>\n",
       "      <td>24.45</td>\n",
       "      <td>38.70</td>\n",
       "    </tr>\n",
       "    <tr>\n",
       "      <th>1 item</th>\n",
       "      <td>26.45</td>\n",
       "      <td>40.70</td>\n",
       "    </tr>\n",
       "    <tr>\n",
       "      <th>2 items</th>\n",
       "      <td>28.45</td>\n",
       "      <td>42.70</td>\n",
       "    </tr>\n",
       "    <tr>\n",
       "      <th>3 items</th>\n",
       "      <td>29.45</td>\n",
       "      <td>44.70</td>\n",
       "    </tr>\n",
       "    <tr>\n",
       "      <th>Special</th>\n",
       "      <td>30.45</td>\n",
       "      <td>45.70</td>\n",
       "    </tr>\n",
       "  </tbody>\n",
       "</table>\n",
       "</div>"
      ],
      "text/plain": [
       "         Small  Large\n",
       "Cheese   24.45  38.70\n",
       "1 item   26.45  40.70\n",
       "2 items  28.45  42.70\n",
       "3 items  29.45  44.70\n",
       "Special  30.45  45.70"
      ]
     },
     "metadata": {},
     "output_type": "display_data"
    },
    {
     "name": "stdout",
     "output_type": "stream",
     "text": [
      "Subs:\n"
     ]
    },
    {
     "data": {
      "text/html": [
       "<div>\n",
       "<style scoped>\n",
       "    .dataframe tbody tr th:only-of-type {\n",
       "        vertical-align: middle;\n",
       "    }\n",
       "\n",
       "    .dataframe tbody tr th {\n",
       "        vertical-align: top;\n",
       "    }\n",
       "\n",
       "    .dataframe thead th {\n",
       "        text-align: right;\n",
       "    }\n",
       "</style>\n",
       "<table border=\"1\" class=\"dataframe\">\n",
       "  <thead>\n",
       "    <tr style=\"text-align: right;\">\n",
       "      <th></th>\n",
       "      <th>Small</th>\n",
       "      <th>Large</th>\n",
       "    </tr>\n",
       "  </thead>\n",
       "  <tbody>\n",
       "    <tr>\n",
       "      <th>Cheese</th>\n",
       "      <td>6.50</td>\n",
       "      <td>7.95</td>\n",
       "    </tr>\n",
       "    <tr>\n",
       "      <th>Italian</th>\n",
       "      <td>6.50</td>\n",
       "      <td>7.95</td>\n",
       "    </tr>\n",
       "    <tr>\n",
       "      <th>Ham + Cheese</th>\n",
       "      <td>6.50</td>\n",
       "      <td>7.95</td>\n",
       "    </tr>\n",
       "    <tr>\n",
       "      <th>Meatball</th>\n",
       "      <td>6.50</td>\n",
       "      <td>7.95</td>\n",
       "    </tr>\n",
       "    <tr>\n",
       "      <th>Tuna</th>\n",
       "      <td>6.50</td>\n",
       "      <td>7.95</td>\n",
       "    </tr>\n",
       "    <tr>\n",
       "      <th>Turkey</th>\n",
       "      <td>7.50</td>\n",
       "      <td>8.50</td>\n",
       "    </tr>\n",
       "    <tr>\n",
       "      <th>Chicken Parmigiana</th>\n",
       "      <td>7.50</td>\n",
       "      <td>8.50</td>\n",
       "    </tr>\n",
       "    <tr>\n",
       "      <th>Eggplant Parmigiana</th>\n",
       "      <td>6.50</td>\n",
       "      <td>7.95</td>\n",
       "    </tr>\n",
       "    <tr>\n",
       "      <th>Steak</th>\n",
       "      <td>6.50</td>\n",
       "      <td>7.95</td>\n",
       "    </tr>\n",
       "    <tr>\n",
       "      <th>Steak + Cheese</th>\n",
       "      <td>6.95</td>\n",
       "      <td>8.50</td>\n",
       "    </tr>\n",
       "    <tr>\n",
       "      <th>+ Mushrooms</th>\n",
       "      <td>+0.50</td>\n",
       "      <td>+0.50</td>\n",
       "    </tr>\n",
       "    <tr>\n",
       "      <th>+ Green Peppers</th>\n",
       "      <td>+0.50</td>\n",
       "      <td>+0.50</td>\n",
       "    </tr>\n",
       "    <tr>\n",
       "      <th>+ Onions</th>\n",
       "      <td>+0.50</td>\n",
       "      <td>+0.50</td>\n",
       "    </tr>\n",
       "    <tr>\n",
       "      <th>Sausage, Peppers &amp; Onions</th>\n",
       "      <td></td>\n",
       "      <td>8.50</td>\n",
       "    </tr>\n",
       "    <tr>\n",
       "      <th>Hamburger</th>\n",
       "      <td>4.60</td>\n",
       "      <td>6.95</td>\n",
       "    </tr>\n",
       "    <tr>\n",
       "      <th>Cheeseburger</th>\n",
       "      <td>5.10</td>\n",
       "      <td>7.45</td>\n",
       "    </tr>\n",
       "    <tr>\n",
       "      <th>Fried Chicken</th>\n",
       "      <td>6.95</td>\n",
       "      <td>8.50</td>\n",
       "    </tr>\n",
       "    <tr>\n",
       "      <th>Veggie</th>\n",
       "      <td>6.95</td>\n",
       "      <td>8.50</td>\n",
       "    </tr>\n",
       "    <tr>\n",
       "      <th>Extra Cheese on any sub</th>\n",
       "      <td>+0.50</td>\n",
       "      <td>+0.50</td>\n",
       "    </tr>\n",
       "  </tbody>\n",
       "</table>\n",
       "</div>"
      ],
      "text/plain": [
       "                           Small  Large\n",
       "Cheese                      6.50   7.95\n",
       "Italian                     6.50   7.95\n",
       "Ham + Cheese                6.50   7.95\n",
       "Meatball                    6.50   7.95\n",
       "Tuna                        6.50   7.95\n",
       "Turkey                      7.50   8.50\n",
       "Chicken Parmigiana          7.50   8.50\n",
       "Eggplant Parmigiana         6.50   7.95\n",
       "Steak                       6.50   7.95\n",
       "Steak + Cheese              6.95   8.50\n",
       "+ Mushrooms                +0.50  +0.50\n",
       "+ Green Peppers            +0.50  +0.50\n",
       "+ Onions                   +0.50  +0.50\n",
       "Sausage, Peppers & Onions          8.50\n",
       "Hamburger                   4.60   6.95\n",
       "Cheeseburger                5.10   7.45\n",
       "Fried Chicken               6.95   8.50\n",
       "Veggie                      6.95   8.50\n",
       "Extra Cheese on any sub    +0.50  +0.50"
      ]
     },
     "metadata": {},
     "output_type": "display_data"
    },
    {
     "name": "stdout",
     "output_type": "stream",
     "text": [
      "Pasta:\n"
     ]
    },
    {
     "data": {
      "text/html": [
       "<div>\n",
       "<style scoped>\n",
       "    .dataframe tbody tr th:only-of-type {\n",
       "        vertical-align: middle;\n",
       "    }\n",
       "\n",
       "    .dataframe tbody tr th {\n",
       "        vertical-align: top;\n",
       "    }\n",
       "\n",
       "    .dataframe thead th {\n",
       "        text-align: right;\n",
       "    }\n",
       "</style>\n",
       "<table border=\"1\" class=\"dataframe\">\n",
       "  <thead>\n",
       "    <tr style=\"text-align: right;\">\n",
       "      <th></th>\n",
       "      <th></th>\n",
       "    </tr>\n",
       "  </thead>\n",
       "  <tbody>\n",
       "    <tr>\n",
       "      <th>Baked Ziti w/Mozzarella</th>\n",
       "      <td>6.50</td>\n",
       "    </tr>\n",
       "    <tr>\n",
       "      <th>Baked Ziti w/Meatballs</th>\n",
       "      <td>8.75</td>\n",
       "    </tr>\n",
       "    <tr>\n",
       "      <th>Baked Ziti w/Chicken</th>\n",
       "      <td>9.75</td>\n",
       "    </tr>\n",
       "  </tbody>\n",
       "</table>\n",
       "</div>"
      ],
      "text/plain": [
       "                             \n",
       "Baked Ziti w/Mozzarella  6.50\n",
       "Baked Ziti w/Meatballs   8.75\n",
       "Baked Ziti w/Chicken     9.75"
      ]
     },
     "metadata": {},
     "output_type": "display_data"
    },
    {
     "name": "stdout",
     "output_type": "stream",
     "text": [
      "Salads:\n"
     ]
    },
    {
     "data": {
      "text/html": [
       "<div>\n",
       "<style scoped>\n",
       "    .dataframe tbody tr th:only-of-type {\n",
       "        vertical-align: middle;\n",
       "    }\n",
       "\n",
       "    .dataframe tbody tr th {\n",
       "        vertical-align: top;\n",
       "    }\n",
       "\n",
       "    .dataframe thead th {\n",
       "        text-align: right;\n",
       "    }\n",
       "</style>\n",
       "<table border=\"1\" class=\"dataframe\">\n",
       "  <thead>\n",
       "    <tr style=\"text-align: right;\">\n",
       "      <th></th>\n",
       "      <th></th>\n",
       "    </tr>\n",
       "  </thead>\n",
       "  <tbody>\n",
       "    <tr>\n",
       "      <th>Garden Salad</th>\n",
       "      <td>6.25</td>\n",
       "    </tr>\n",
       "    <tr>\n",
       "      <th>Greek Salad</th>\n",
       "      <td>8.25</td>\n",
       "    </tr>\n",
       "    <tr>\n",
       "      <th>Antipasto</th>\n",
       "      <td>8.25</td>\n",
       "    </tr>\n",
       "    <tr>\n",
       "      <th>Salad w/Tuna</th>\n",
       "      <td>8.25</td>\n",
       "    </tr>\n",
       "  </tbody>\n",
       "</table>\n",
       "</div>"
      ],
      "text/plain": [
       "                  \n",
       "Garden Salad  6.25\n",
       "Greek Salad   8.25\n",
       "Antipasto     8.25\n",
       "Salad w/Tuna  8.25"
      ]
     },
     "metadata": {},
     "output_type": "display_data"
    },
    {
     "name": "stdout",
     "output_type": "stream",
     "text": [
      "Dinner Platters:\n"
     ]
    },
    {
     "data": {
      "text/html": [
       "<div>\n",
       "<style scoped>\n",
       "    .dataframe tbody tr th:only-of-type {\n",
       "        vertical-align: middle;\n",
       "    }\n",
       "\n",
       "    .dataframe tbody tr th {\n",
       "        vertical-align: top;\n",
       "    }\n",
       "\n",
       "    .dataframe thead th {\n",
       "        text-align: right;\n",
       "    }\n",
       "</style>\n",
       "<table border=\"1\" class=\"dataframe\">\n",
       "  <thead>\n",
       "    <tr style=\"text-align: right;\">\n",
       "      <th></th>\n",
       "      <th></th>\n",
       "    </tr>\n",
       "  </thead>\n",
       "  <tbody>\n",
       "    <tr>\n",
       "      <th>Garden Salad</th>\n",
       "      <td>Small  $40.00  Large  $65.00</td>\n",
       "    </tr>\n",
       "    <tr>\n",
       "      <th>Greek Salad</th>\n",
       "      <td>Small $50.00  Large  $75.00</td>\n",
       "    </tr>\n",
       "    <tr>\n",
       "      <th>Antipasto</th>\n",
       "      <td>Small $50.00 Large $75.00</td>\n",
       "    </tr>\n",
       "    <tr>\n",
       "      <th>Baked Ziti</th>\n",
       "      <td>Small $40.00 Large $65.00</td>\n",
       "    </tr>\n",
       "    <tr>\n",
       "      <th>Meatball Parm</th>\n",
       "      <td>Small $50.00 Large $75.00</td>\n",
       "    </tr>\n",
       "    <tr>\n",
       "      <th>Chicken Parm</th>\n",
       "      <td>Small $55.00 Large $85.00</td>\n",
       "    </tr>\n",
       "  </tbody>\n",
       "</table>\n",
       "</div>"
      ],
      "text/plain": [
       "                                           \n",
       "Garden Salad   Small  $40.00  Large  $65.00\n",
       "Greek Salad     Small $50.00  Large  $75.00\n",
       "Antipasto         Small $50.00 Large $75.00\n",
       "Baked Ziti        Small $40.00 Large $65.00\n",
       "Meatball Parm     Small $50.00 Large $75.00\n",
       "Chicken Parm      Small $55.00 Large $85.00"
      ]
     },
     "metadata": {},
     "output_type": "display_data"
    }
   ],
   "source": [
    "display(extract_toppings())\n",
    "\n",
    "for i, name in zip(range(6), ['Regular', 'Sicilian', 'Subs', 'Pasta', 'Salads', 'Dinner Platters']):\n",
    "    print(\"{}:\".format(name))\n",
    "    display(extract_table(i))"
   ]
  },
  {
   "cell_type": "markdown",
   "metadata": {},
   "source": [
    "# DATABASE inserts"
   ]
  },
  {
   "cell_type": "code",
   "execution_count": 35,
   "metadata": {},
   "outputs": [
    {
     "data": {
      "text/plain": [
       "<sqlite3.Cursor at 0x7f97bbd62a40>"
      ]
     },
     "execution_count": 35,
     "metadata": {},
     "output_type": "execute_result"
    }
   ],
   "source": [
    "import sqlite3\n",
    "conn = sqlite3.connect('db.sqlite3')\n",
    "db = conn.cursor()\n",
    "\n",
    "db.execute(\"\"\"DELETE FROM orders_topping\"\"\")\n",
    "db.execute(\"\"\"DELETE FROM orders_menu\"\"\")"
   ]
  },
  {
   "cell_type": "code",
   "execution_count": 36,
   "metadata": {},
   "outputs": [],
   "source": [
    "for topping in extract_toppings():\n",
    "    sql = \"\"\"\n",
    "    insert into orders_topping (name)\n",
    "    values (?)\n",
    "    \"\"\"\n",
    "    db.execute(sql, (topping,))"
   ]
  },
  {
   "cell_type": "code",
   "execution_count": 37,
   "metadata": {},
   "outputs": [],
   "source": [
    "def isFloat(str):\n",
    "    try:\n",
    "        float(str)\n",
    "    except ValueError:\n",
    "        return False\n",
    "    return True\n",
    "\n",
    "for i, kind in enumerate(['regular pizza', 'silician pizza', 'sub', 'pasta', 'salad']):\n",
    "    df = extract_table(i)\n",
    "    for vertical_field, row in df.iterrows():\n",
    "        for horizontal_field, price in zip(row.index, row):\n",
    "            sql = \"\"\"\n",
    "            insert into orders_menu (kind, name, size, price)\n",
    "            values (?,?,?,?)\n",
    "            \"\"\"\n",
    "            if isFloat(price):\n",
    "                db.execute(sql, (kind, vertical_field, horizontal_field.strip(), price))\n",
    "                # .strip() because for kind=\"pasta\" \"horizontal_field\" becomes ' ' instead of ''"
   ]
  },
  {
   "cell_type": "code",
   "execution_count": 38,
   "metadata": {},
   "outputs": [],
   "source": [
    "df = extract_table(5)\n",
    "query_inputs = []\n",
    "for vertical_field, row in df.iterrows():\n",
    "    for horizontal_field, price in zip(row.index, row):\n",
    "        # Remove blank elements after spliting single line\n",
    "        batch = list(filter(lambda x: x!='', price.split(' ')))\n",
    "        # Split line into 2 queries and ignore '$' sign\n",
    "        query_inputs.append((vertical_field, batch[0], batch[1][1:]))\n",
    "        query_inputs.append((vertical_field, batch[2], batch[3][1:]))\n",
    "        \n",
    "for name, size, price in query_inputs:\n",
    "    sql = \"\"\"\n",
    "    insert into orders_menu (kind, name, size, price)\n",
    "    values (?,?,?,?)\n",
    "    \"\"\"\n",
    "    db.execute(sql, ('dinner platter', name, size, price))"
   ]
  },
  {
   "cell_type": "code",
   "execution_count": 39,
   "metadata": {},
   "outputs": [],
   "source": [
    "conn.commit()\n",
    "conn.close()"
   ]
  },
  {
   "cell_type": "code",
   "execution_count": null,
   "metadata": {},
   "outputs": [],
   "source": []
  }
 ],
 "metadata": {
  "kernelspec": {
   "display_name": "Python 3",
   "language": "python",
   "name": "python3"
  },
  "language_info": {
   "codemirror_mode": {
    "name": "ipython",
    "version": 3
   },
   "file_extension": ".py",
   "mimetype": "text/x-python",
   "name": "python",
   "nbconvert_exporter": "python",
   "pygments_lexer": "ipython3",
   "version": "3.6.9"
  }
 },
 "nbformat": 4,
 "nbformat_minor": 2
}
